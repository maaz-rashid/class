{
 "cells": [
  {
   "cell_type": "code",
   "execution_count": 8,
   "metadata": {},
   "outputs": [
    {
     "name": "stdout",
     "output_type": "stream",
     "text": [
      "Enter comma separated binary digits: 0100,0011,1010,1001\n",
      "1010\n"
     ]
    }
   ],
   "source": [
    "items = [x for x in input(\"Enter comma separated binary digits: \").split(\",\")]\n",
    "ans = []\n",
    "for x in items:\n",
    "    if (int(x,2))%5 == 0:\n",
    "        ans.append(x)\n",
    "\n",
    "print(\",\".join(ans))"
   ]
  },
  {
   "cell_type": "code",
   "execution_count": 10,
   "metadata": {},
   "outputs": [
    {
     "name": "stdout",
     "output_type": "stream",
     "text": [
      "2000,2002,2004,2006,2008,2020,2022,2024,2026,2028,2040,2042,2044,2046,2048,2060,2062,2064,2066,2068,2080,2082,2084,2086,2088,2200,2202,2204,2206,2208,2220,2222,2224,2226,2228,2240,2242,2244,2246,2248,2260,2262,2264,2266,2268,2280,2282,2284,2286,2288,2400,2402,2404,2406,2408,2420,2422,2424,2426,2428,2440,2442,2444,2446,2448,2460,2462,2464,2466,2468,2480,2482,2484,2486,2488,2600,2602,2604,2606,2608,2620,2622,2624,2626,2628,2640,2642,2644,2646,2648,2660,2662,2664,2666,2668,2680,2682,2684,2686,2688,2800,2802,2804,2806,2808,2820,2822,2824,2826,2828,2840,2842,2844,2846,2848,2860,2862,2864,2866,2868,2880,2882,2884,2886,2888\n"
     ]
    }
   ],
   "source": [
    "ans = []\n",
    "for x in range(1000,3001):\n",
    "    strngx = str(x)\n",
    "    if (int(strngx[0])%2 == 0) and (int(strngx[1])%2 == 0) and (int(strngx[2])%2 == 0) and (int(strngx[3])%2 == 0):\n",
    "        ans.append(strngx)\n",
    "\n",
    "print(\",\".join(ans))"
   ]
  },
  {
   "cell_type": "code",
   "execution_count": 11,
   "metadata": {},
   "outputs": [
    {
     "name": "stdout",
     "output_type": "stream",
     "text": [
      "Enter a sentense: Hellloo00 World! 123123\n",
      "No. Letters: 12\n",
      "No. Digits: 8\n"
     ]
    }
   ],
   "source": [
    "strInput = input(\"Enter a sentense: \")\n",
    "letterCount = 0\n",
    "numCount = 0\n",
    "for char in strInput:\n",
    "    if char.isdigit():\n",
    "        numCount += 1\n",
    "    elif char.isalpha():\n",
    "        letterCount +=1\n",
    "    else:\n",
    "        pass\n",
    "\n",
    "print(f\"No. Letters: {letterCount}\")\n",
    "print(f\"No. Digits: {numCount}\")"
   ]
  },
  {
   "cell_type": "code",
   "execution_count": 16,
   "metadata": {},
   "outputs": [
    {
     "name": "stdout",
     "output_type": "stream",
     "text": [
      "Enter a sentense: LKAjsdfkKACsmoJScjLASKjclkasc\n",
      "UPPER CASE: 12\n",
      "LOWER CASE: 17\n"
     ]
    }
   ],
   "source": [
    "strInput = input(\"Enter a sentense: \")\n",
    "upperCount = 0\n",
    "lowerCount = 0\n",
    "for char in strInput:\n",
    "    if char.isupper():\n",
    "        upperCount += 1\n",
    "    elif char.islower():\n",
    "        lowerCount +=1\n",
    "    else:\n",
    "        pass\n",
    "\n",
    "print(f\"UPPER CASE: {upperCount}\")\n",
    "print(f\"LOWER CASE: {lowerCount}\")"
   ]
  },
  {
   "cell_type": "code",
   "execution_count": 7,
   "metadata": {},
   "outputs": [
    {
     "name": "stdout",
     "output_type": "stream",
     "text": [
      "Enter a number: 9\n",
      "Enter range: 5\n",
      "66429\n"
     ]
    }
   ],
   "source": [
    "a = int(input(\"Enter a number: \"))\n",
    "b = int(input(\"Enter range: \"))\n",
    "def Power(num,pow):\n",
    "    return num**pow\n",
    "c=0\n",
    "for item in range(1,b+1):\n",
    "   c+=Power(a,item)\n",
    "\n",
    "print(c)"
   ]
  },
  {
   "cell_type": "code",
   "execution_count": 9,
   "metadata": {},
   "outputs": [
    {
     "name": "stdout",
     "output_type": "stream",
     "text": [
      "Enter a number: 9\n",
      "Enter range: 4\n",
      "11106\n"
     ]
    }
   ],
   "source": [
    "a = input(\"Enter a number: \")\n",
    "b = int(input(\"Enter range: \"))\n",
    "def Multiples(num,multipl):\n",
    "    return num*multipl\n",
    "c=0\n",
    "for item in range(1,b+1):\n",
    "       c+= int(Multiples(a,item))\n",
    "print(c)"
   ]
  },
  {
   "cell_type": "code",
   "execution_count": 12,
   "metadata": {},
   "outputs": [
    {
     "name": "stdout",
     "output_type": "stream",
     "text": [
      "Enter comma separated numbers: 1,2,3,4,5,6,7,8,9\n"
     ]
    },
    {
     "data": {
      "text/plain": [
       "[1, 9, 25, 49, 81]"
      ]
     },
     "execution_count": 12,
     "metadata": {},
     "output_type": "execute_result"
    }
   ],
   "source": [
    "strInput = input(\"Enter comma separated numbers: \")\n",
    "list_of_odd_squares = [int(x)**2 for x in strInput.split(\",\") if int(x)%2 != 0 ]\n",
    "list_of_odd_squares"
   ]
  },
  {
   "cell_type": "code",
   "execution_count": 14,
   "metadata": {},
   "outputs": [
    {
     "name": "stdout",
     "output_type": "stream",
     "text": [
      "Enter transaction: D 300\n",
      "Enter transaction: D 300\n",
      "Enter transaction: W 200\n",
      "Enter transaction: D 100\n",
      "Enter transaction: \n",
      "500\n"
     ]
    }
   ],
   "source": [
    "balance = 0\n",
    "while True:\n",
    "    strInput = input(\"Enter transaction: \")\n",
    "    if not strInput:\n",
    "        break\n",
    "    vals = strInput.split()\n",
    "    if vals[0] == \"D\":\n",
    "        balance += int(vals[1])\n",
    "    elif vals[0] == \"W\":\n",
    "        balance -= int(vals[1])\n",
    "    else:\n",
    "        pass\n",
    "\n",
    "print(balance)"
   ]
  },
  {
   "cell_type": "code",
   "execution_count": 22,
   "metadata": {},
   "outputs": [
    {
     "name": "stdout",
     "output_type": "stream",
     "text": [
      "Enter passwords: ABd1234@1,a F1#,2w3E*,2We3345\n",
      "ABd1234@1\n",
      "2We3345\n",
      "\n"
     ]
    }
   ],
   "source": [
    "import re\n",
    "strInput = input(\"Enter passwords: \")\n",
    "passwords = strInput.split(\",\")\n",
    "goodPass = []\n",
    "for pas in passwords:\n",
    "    if len(pas) > 6 and len(pas) < 13:\n",
    "        if re.match(r'[A-Za-z0-9]',pas):\n",
    "            print(pas)\n",
    "            if not re.search(\"[$#@]\",pas):\n",
    "                print(pas)\n",
    "                goodPass.append(pas)\n",
    "\n",
    "print(\",\".join(goodPass))\n"
   ]
  },
  {
   "cell_type": "code",
   "execution_count": null,
   "metadata": {},
   "outputs": [],
   "source": []
  }
 ],
 "metadata": {
  "kernelspec": {
   "display_name": "Python 3",
   "language": "python",
   "name": "python3"
  },
  "language_info": {
   "codemirror_mode": {
    "name": "ipython",
    "version": 3
   },
   "file_extension": ".py",
   "mimetype": "text/x-python",
   "name": "python",
   "nbconvert_exporter": "python",
   "pygments_lexer": "ipython3",
   "version": "3.6.5"
  }
 },
 "nbformat": 4,
 "nbformat_minor": 2
}
