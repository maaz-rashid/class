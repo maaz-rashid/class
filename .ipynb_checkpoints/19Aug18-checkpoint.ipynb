{
 "cells": [
  {
   "cell_type": "code",
   "execution_count": 5,
   "metadata": {},
   "outputs": [
    {
     "name": "stdout",
     "output_type": "stream",
     "text": [
      "first_name : David\n",
      "last_name : Muller\n",
      "salary : 600\n"
     ]
    }
   ],
   "source": [
    "costomer = {\n",
    "    \"first_name\" : \"David\",\n",
    "    \"last_name\" : \"Muller\",\n",
    "    \"salary\" : 600\n",
    "}\n",
    "\n",
    "for x in costomer.keys():\n",
    "    print(f\"{x} : {costomer[x]}\")"
   ]
  },
  {
   "cell_type": "code",
   "execution_count": 8,
   "metadata": {},
   "outputs": [
    {
     "name": "stdout",
     "output_type": "stream",
     "text": [
      "{'n1': [1, 2, 3], 'n2': [1, 2, 5], 'n3': [2, 3, 4]}\n"
     ]
    }
   ],
   "source": [
    "some_numbers = {'n1':[2,3,1], 'n2':[5,1,2],'n3':[3,2,4]}\n",
    "for key in some_numbers.keys():\n",
    "    some_numbers[key] = sorted(some_numbers[key])\n",
    "print(some_numbers)"
   ]
  },
  {
   "cell_type": "code",
   "execution_count": 12,
   "metadata": {},
   "outputs": [
    {
     "data": {
      "text/plain": [
       "{'n1': [1, 2, 3], 'n2': [1, 2, 5], 'n3': [2, 3, 4]}"
      ]
     },
     "execution_count": 12,
     "metadata": {},
     "output_type": "execute_result"
    }
   ],
   "source": [
    "{x:sorted(some_numbers[x]) for x in some_numbers.keys()}"
   ]
  },
  {
   "cell_type": "code",
   "execution_count": 14,
   "metadata": {},
   "outputs": [
    {
     "data": {
      "text/plain": [
       "{'n1': [1, 2, 3], 'n2': [1, 2, 5], 'n3': [2, 3, 4]}"
      ]
     },
     "execution_count": 14,
     "metadata": {},
     "output_type": "execute_result"
    }
   ],
   "source": [
    "{k:sorted(v) for (k,v) in some_numbers.items()}"
   ]
  },
  {
   "cell_type": "code",
   "execution_count": 24,
   "metadata": {},
   "outputs": [
    {
     "data": {
      "text/plain": [
       "{'first_name': 'David', 'last_name': 'Muller', 'salary': 600}"
      ]
     },
     "execution_count": 24,
     "metadata": {},
     "output_type": "execute_result"
    }
   ],
   "source": [
    "{k:costomer[k] for (k) in costomer.keys()}"
   ]
  },
  {
   "cell_type": "code",
   "execution_count": 26,
   "metadata": {},
   "outputs": [
    {
     "name": "stdout",
     "output_type": "stream",
     "text": [
      "flint\n",
      "twine\n",
      "gemstone\n"
     ]
    }
   ],
   "source": [
    "inventory = {\n",
    "    'gold' : 500,\n",
    "    'pouch' : ['flint','twine','gemstone','hagger'],\n",
    "    'backpack' : ['xylo', 'dagger','bedroll','bread']\n",
    "}\n",
    "\n",
    "if inventory['pouch']:\n",
    "    [print(x) for x in inventory['pouch'] if x!='hagger']"
   ]
  },
  {
   "cell_type": "code",
   "execution_count": 33,
   "metadata": {},
   "outputs": [
    {
     "name": "stdout",
     "output_type": "stream",
     "text": [
      "flint\n",
      "twine\n",
      "gemstone\n"
     ]
    },
    {
     "data": {
      "text/plain": [
       "{None}"
      ]
     },
     "execution_count": 33,
     "metadata": {},
     "output_type": "execute_result"
    }
   ],
   "source": [
    "{ print(y) for x in inventory.keys() if x == 'pouch'  for y in inventory[x] if y!='hagger'  }"
   ]
  },
  {
   "cell_type": "code",
   "execution_count": 34,
   "metadata": {},
   "outputs": [
    {
     "name": "stdout",
     "output_type": "stream",
     "text": [
      "html\n",
      "css\n",
      "excel\n"
     ]
    }
   ],
   "source": [
    "user_programming_languages = {\n",
    "    \"osama\" : [\"C\",\"C#\",\"Python\"],\n",
    "    \"amir saleem\":['html','css','excel']\n",
    "}\n",
    "if user_programming_languages['amir saleem']:\n",
    "    [print(x) for x in user_programming_languages['amir saleem']]"
   ]
  },
  {
   "cell_type": "code",
   "execution_count": 35,
   "metadata": {},
   "outputs": [
    {
     "name": "stdout",
     "output_type": "stream",
     "text": [
      "html\n",
      "css\n",
      "excel\n"
     ]
    },
    {
     "data": {
      "text/plain": [
       "{None}"
      ]
     },
     "execution_count": 35,
     "metadata": {},
     "output_type": "execute_result"
    }
   ],
   "source": [
    "{ print(y) for x in user_programming_languages.keys() if x == 'amir saleem'  for y in user_programming_languages[x] }"
   ]
  },
  {
   "cell_type": "code",
   "execution_count": 39,
   "metadata": {},
   "outputs": [],
   "source": [
    "user_programming_languages.get(\"osam\")"
   ]
  },
  {
   "cell_type": "code",
   "execution_count": 41,
   "metadata": {},
   "outputs": [
    {
     "data": {
      "text/plain": [
       "[{'name': 'hasan', 'pass': 'newpass'}, {'name': 'talha', 'pass': 'newpass'}]"
      ]
     },
     "execution_count": 41,
     "metadata": {},
     "output_type": "execute_result"
    }
   ],
   "source": [
    "users = [{\n",
    "    'name':'hasan',\n",
    "    'pass':'pass'\n",
    "},\n",
    "{\n",
    "    'name':'talha',\n",
    "    'pass':'pass'\n",
    "}]\n",
    "\n",
    "for x in users:\n",
    "    x.update({'pass':'newpass'})\n",
    "\n",
    "users"
   ]
  }
 ],
 "metadata": {
  "kernelspec": {
   "display_name": "Python 3",
   "language": "python",
   "name": "python3"
  },
  "language_info": {
   "codemirror_mode": {
    "name": "ipython",
    "version": 3
   },
   "file_extension": ".py",
   "mimetype": "text/x-python",
   "name": "python",
   "nbconvert_exporter": "python",
   "pygments_lexer": "ipython3",
   "version": "3.6.5"
  }
 },
 "nbformat": 4,
 "nbformat_minor": 2
}
