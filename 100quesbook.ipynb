{
 "cells": [
  {
   "cell_type": "code",
   "execution_count": 8,
   "metadata": {},
   "outputs": [
    {
     "name": "stdout",
     "output_type": "stream",
     "text": [
      "Enter comma separated binary digits: 0100,0011,1010,1001\n",
      "1010\n"
     ]
    }
   ],
   "source": [
    "items = [x for x in input(\"Enter comma separated binary digits: \").split(\",\")]\n",
    "ans = []\n",
    "for x in items:\n",
    "    if (int(x,2))%5 == 0:\n",
    "        ans.append(x)\n",
    "\n",
    "print(\",\".join(ans))"
   ]
  },
  {
   "cell_type": "code",
   "execution_count": 10,
   "metadata": {},
   "outputs": [
    {
     "name": "stdout",
     "output_type": "stream",
     "text": [
      "2000,2002,2004,2006,2008,2020,2022,2024,2026,2028,2040,2042,2044,2046,2048,2060,2062,2064,2066,2068,2080,2082,2084,2086,2088,2200,2202,2204,2206,2208,2220,2222,2224,2226,2228,2240,2242,2244,2246,2248,2260,2262,2264,2266,2268,2280,2282,2284,2286,2288,2400,2402,2404,2406,2408,2420,2422,2424,2426,2428,2440,2442,2444,2446,2448,2460,2462,2464,2466,2468,2480,2482,2484,2486,2488,2600,2602,2604,2606,2608,2620,2622,2624,2626,2628,2640,2642,2644,2646,2648,2660,2662,2664,2666,2668,2680,2682,2684,2686,2688,2800,2802,2804,2806,2808,2820,2822,2824,2826,2828,2840,2842,2844,2846,2848,2860,2862,2864,2866,2868,2880,2882,2884,2886,2888\n"
     ]
    }
   ],
   "source": [
    "ans = []\n",
    "for x in range(1000,3001):\n",
    "    strngx = str(x)\n",
    "    if (int(strngx[0])%2 == 0) and (int(strngx[1])%2 == 0) and (int(strngx[2])%2 == 0) and (int(strngx[3])%2 == 0):\n",
    "        ans.append(strngx)\n",
    "\n",
    "print(\",\".join(ans))"
   ]
  },
  {
   "cell_type": "code",
   "execution_count": 11,
   "metadata": {},
   "outputs": [
    {
     "name": "stdout",
     "output_type": "stream",
     "text": [
      "Enter a sentense: Hellloo00 World! 123123\n",
      "No. Letters: 12\n",
      "No. Digits: 8\n"
     ]
    }
   ],
   "source": [
    "strInput = input(\"Enter a sentense: \")\n",
    "letterCount = 0\n",
    "numCount = 0\n",
    "for char in strInput:\n",
    "    if char.isdigit():\n",
    "        numCount += 1\n",
    "    elif char.isalpha():\n",
    "        letterCount +=1\n",
    "    else:\n",
    "        pass\n",
    "\n",
    "print(f\"No. Letters: {letterCount}\")\n",
    "print(f\"No. Digits: {numCount}\")"
   ]
  },
  {
   "cell_type": "code",
   "execution_count": 16,
   "metadata": {},
   "outputs": [
    {
     "name": "stdout",
     "output_type": "stream",
     "text": [
      "Enter a sentense: LKAjsdfkKACsmoJScjLASKjclkasc\n",
      "UPPER CASE: 12\n",
      "LOWER CASE: 17\n"
     ]
    }
   ],
   "source": [
    "strInput = input(\"Enter a sentense: \")\n",
    "upperCount = 0\n",
    "lowerCount = 0\n",
    "for char in strInput:\n",
    "    if char.isupper():\n",
    "        upperCount += 1\n",
    "    elif char.islower():\n",
    "        lowerCount +=1\n",
    "    else:\n",
    "        pass\n",
    "\n",
    "print(f\"UPPER CASE: {upperCount}\")\n",
    "print(f\"LOWER CASE: {lowerCount}\")"
   ]
  },
  {
   "cell_type": "code",
   "execution_count": 7,
   "metadata": {},
   "outputs": [
    {
     "name": "stdout",
     "output_type": "stream",
     "text": [
      "Enter a number: 9\n",
      "Enter range: 5\n",
      "66429\n"
     ]
    }
   ],
   "source": [
    "a = int(input(\"Enter a number: \"))\n",
    "b = int(input(\"Enter range: \"))\n",
    "def Power(num,pow):\n",
    "    return num**pow\n",
    "c=0\n",
    "for item in range(1,b+1):\n",
    "   c+=Power(a,item)\n",
    "\n",
    "print(c)"
   ]
  },
  {
   "cell_type": "code",
   "execution_count": 9,
   "metadata": {},
   "outputs": [
    {
     "name": "stdout",
     "output_type": "stream",
     "text": [
      "Enter a number: 9\n",
      "Enter range: 4\n",
      "11106\n"
     ]
    }
   ],
   "source": [
    "a = input(\"Enter a number: \")\n",
    "b = int(input(\"Enter range: \"))\n",
    "def Multiples(num,multipl):\n",
    "    return num*multipl\n",
    "c=0\n",
    "for item in range(1,b+1):\n",
    "       c+= int(Multiples(a,item))\n",
    "print(c)"
   ]
  },
  {
   "cell_type": "code",
   "execution_count": 12,
   "metadata": {},
   "outputs": [
    {
     "name": "stdout",
     "output_type": "stream",
     "text": [
      "Enter comma separated numbers: 1,2,3,4,5,6,7,8,9\n"
     ]
    },
    {
     "data": {
      "text/plain": [
       "[1, 9, 25, 49, 81]"
      ]
     },
     "execution_count": 12,
     "metadata": {},
     "output_type": "execute_result"
    }
   ],
   "source": [
    "strInput = input(\"Enter comma separated numbers: \")\n",
    "list_of_odd_squares = [int(x)**2 for x in strInput.split(\",\") if int(x)%2 != 0 ]\n",
    "list_of_odd_squares"
   ]
  },
  {
   "cell_type": "code",
   "execution_count": 14,
   "metadata": {},
   "outputs": [
    {
     "name": "stdout",
     "output_type": "stream",
     "text": [
      "Enter transaction: D 300\n",
      "Enter transaction: D 300\n",
      "Enter transaction: W 200\n",
      "Enter transaction: D 100\n",
      "Enter transaction: \n",
      "500\n"
     ]
    }
   ],
   "source": [
    "balance = 0\n",
    "while True:\n",
    "    strInput = input(\"Enter transaction: \")\n",
    "    if not strInput:\n",
    "        break\n",
    "    vals = strInput.split()\n",
    "    if vals[0] == \"D\":\n",
    "        balance += int(vals[1])\n",
    "    elif vals[0] == \"W\":\n",
    "        balance -= int(vals[1])\n",
    "    else:\n",
    "        pass\n",
    "\n",
    "print(balance)"
   ]
  },
  {
   "cell_type": "code",
   "execution_count": 25,
   "metadata": {},
   "outputs": [
    {
     "name": "stdout",
     "output_type": "stream",
     "text": [
      "Enter passwords: ABd1234@1,a F1#,2w3E*,2We3345\n",
      "ABd1234@1\n"
     ]
    }
   ],
   "source": [
    "import re\n",
    "strInput = input(\"Enter passwords: \")\n",
    "passwords = strInput.split(\",\")\n",
    "goodPass = []\n",
    "for pas in passwords:\n",
    "    if len(pas) > 6 and len(pas) < 13:\n",
    "        if re.match(r'[A-Za-z0-9]',pas):\n",
    "            if re.search(\"[$#@]\",pas):\n",
    "                goodPass.append(pas)\n",
    "\n",
    "print(\",\".join(goodPass))\n"
   ]
  },
  {
   "cell_type": "code",
   "execution_count": 3,
   "metadata": {},
   "outputs": [
    {
     "name": "stdout",
     "output_type": "stream",
     "text": [
      "Enter info: Tom,19,80\n",
      "Enter info: John,20,90\n",
      "Enter info: Jony,17,91\n",
      "Enter info: Jony,17,93\n",
      "Enter info: Json,21,85\n",
      "Enter info: \n",
      "[('John', '20', '90'), ('Jony', '17', '91'), ('Jony', '17', '93'), ('Json', '21', '85'), ('Tom', '19', '80')]\n"
     ]
    }
   ],
   "source": [
    "from operator import itemgetter\n",
    "initList = []\n",
    "while True:\n",
    "    s = input(\"Enter info: \")\n",
    "    if not s:\n",
    "        break\n",
    "    initList.append(tuple(s.split(\",\")))\n",
    "\n",
    "print(sorted(initList, key=itemgetter(0,1,2)))"
   ]
  },
  {
   "cell_type": "code",
   "execution_count": 7,
   "metadata": {},
   "outputs": [
    {
     "name": "stdout",
     "output_type": "stream",
     "text": [
      "0\n",
      "7\n",
      "14\n",
      "21\n",
      "28\n",
      "35\n",
      "42\n",
      "49\n",
      "56\n",
      "63\n",
      "70\n",
      "77\n",
      "84\n",
      "91\n",
      "98\n"
     ]
    }
   ],
   "source": [
    "def divisble_by_seven(num):\n",
    "    for x in range(num+1):\n",
    "        if x%7==0:\n",
    "            yield x\n",
    "\n",
    "nums = divisble_by_seven(100)\n",
    "\n",
    "for n in nums:\n",
    "    print(n)"
   ]
  },
  {
   "cell_type": "code",
   "execution_count": 8,
   "metadata": {},
   "outputs": [
    {
     "name": "stdout",
     "output_type": "stream",
     "text": [
      "Enter direction and steps: UP 5\n",
      "Enter direction and steps: DOWN 3\n",
      "Enter direction and steps: LEFT 3\n",
      "Enter direction and steps: RIGHT 2\n",
      "Enter direction and steps: \n",
      "2\n"
     ]
    }
   ],
   "source": [
    "import math\n",
    "position = [0,0]\n",
    "while True:\n",
    "    s = input(\"Enter direction and steps: \")\n",
    "    if not s:\n",
    "        break\n",
    "    to_move = s.split()\n",
    "    direction = to_move[0]\n",
    "    steps = int(to_move[1])\n",
    "    if direction == \"UP\":\n",
    "        position[0] += steps\n",
    "    elif direction == \"DOWN\":\n",
    "        position[0] -= steps\n",
    "    elif direction == \"LEFT\":\n",
    "        position[1] -= steps\n",
    "    elif direction == \"RIGHT\":\n",
    "        position[1] += steps\n",
    "    else:\n",
    "        pass\n",
    "\n",
    "print(int(round(math.sqrt(position[0]**2 + position[1]**2))))"
   ]
  },
  {
   "cell_type": "code",
   "execution_count": 15,
   "metadata": {},
   "outputs": [
    {
     "name": "stdout",
     "output_type": "stream",
     "text": [
      "Enter a senctence: New to Python or choosing between Python 2 and Python 3? Read Python 2 or Python 3.\n",
      "2 : 2\n",
      "3. : 1\n",
      "3? : 1\n",
      "New : 1\n",
      "Python : 5\n",
      "Read : 1\n",
      "and : 1\n",
      "between : 1\n",
      "choosing : 1\n",
      "or : 2\n",
      "to : 1\n"
     ]
    }
   ],
   "source": [
    "s = input(\"Enter a senctence: \")\n",
    "initList = s.split()\n",
    "freq = { x:initList.count(x) for x in initList }\n",
    "freq = { x:freq.get(x) for x in sorted(freq.keys())}\n",
    "for x in freq.keys():\n",
    "    print(f\"{x} : {freq.get(x)}\")"
   ]
  },
  {
   "cell_type": "code",
   "execution_count": 17,
   "metadata": {
    "scrolled": true
   },
   "outputs": [
    {
     "name": "stdout",
     "output_type": "stream",
     "text": [
      "2 : 2\n",
      "3. : 1\n",
      "3? : 1\n",
      "New : 1\n",
      "Python : 5\n",
      "Read : 1\n",
      "and : 1\n",
      "between : 1\n",
      "choosing : 1\n",
      "or : 2\n",
      "to : 1\n"
     ]
    }
   ],
   "source": [
    "from collections import Counter\n",
    "newdict = dict(Counter(initList))\n",
    "newdict = { x:newdict.get(x) for x in sorted(newdict.keys())}\n",
    "for x in newdict.keys():\n",
    "    print(f\"{x} : {newdict.get(x)}\")"
   ]
  },
  {
   "cell_type": "code",
   "execution_count": 18,
   "metadata": {},
   "outputs": [
    {
     "name": "stdout",
     "output_type": "stream",
     "text": [
      "Enter a number: 3\n",
      "square of 3 is: 9\n",
      "Enter a number: 5\n",
      "square of 5 is: 25\n",
      "Enter a number: 6\n",
      "square of 6 is: 36\n",
      "Enter a number: 7\n",
      "square of 7 is: 49\n",
      "Enter a number: \n"
     ]
    }
   ],
   "source": [
    "def square(num):\n",
    "    print(f\"square of {num} is: {num**2}\")\n",
    "    return num**2\n",
    "\n",
    "while True:\n",
    "    s = input(\"Enter a number: \")\n",
    "    if not s:\n",
    "        break\n",
    "    square(int(s))"
   ]
  },
  {
   "cell_type": "code",
   "execution_count": 21,
   "metadata": {},
   "outputs": [
    {
     "name": "stdout",
     "output_type": "stream",
     "text": [
      "int(x=0) -> integer\n",
      "int(x, base=10) -> integer\n",
      "\n",
      "Convert a number or string to an integer, or return 0 if no arguments\n",
      "are given.  If x is a number, return x.__int__().  For floating point\n",
      "numbers, this truncates towards zero.\n",
      "\n",
      "If x is not a number or if base is given, then x must be a string,\n",
      "bytes, or bytearray instance representing an integer literal in the\n",
      "given base.  The literal can be preceded by '+' or '-' and be surrounded\n",
      "by whitespace.  The base defaults to 10.  Valid bases are 0 and 2-36.\n",
      "Base 0 means to interpret the base from the string as an integer literal.\n",
      ">>> int('0b100', base=0)\n",
      "4\n"
     ]
    }
   ],
   "source": [
    "print(int().__doc__)"
   ]
  },
  {
   "cell_type": "code",
   "execution_count": 23,
   "metadata": {},
   "outputs": [
    {
     "name": "stdout",
     "output_type": "stream",
     "text": [
      "Person's name is Jeffery\n"
     ]
    }
   ],
   "source": [
    "class Person:\n",
    "    name = \"Person\"\n",
    "    def __init__(self, name = None):\n",
    "            self.name = name\n",
    "    \n",
    "jeff = Person(\"Jeffery\")\n",
    "print(f\"{Person.name}'s name is {jeff.name}\")"
   ]
  },
  {
   "cell_type": "code",
   "execution_count": 25,
   "metadata": {},
   "outputs": [
    {
     "name": "stdout",
     "output_type": "stream",
     "text": [
      "8\n"
     ]
    }
   ],
   "source": [
    "def sum(a,b):\n",
    "    return a+b\n",
    "\n",
    "print(f\"{sum(4,4)}\")"
   ]
  },
  {
   "cell_type": "code",
   "execution_count": 26,
   "metadata": {},
   "outputs": [
    {
     "name": "stdout",
     "output_type": "stream",
     "text": [
      "8\n"
     ]
    }
   ],
   "source": [
    "def toStr(num):\n",
    "    print(str(num))\n",
    "\n",
    "toStr(8)"
   ]
  },
  {
   "cell_type": "code",
   "execution_count": 27,
   "metadata": {},
   "outputs": [
    {
     "name": "stdout",
     "output_type": "stream",
     "text": [
      "9\n"
     ]
    }
   ],
   "source": [
    "def sumOfStr(num1,num2):\n",
    "    print(int(num1) + int(num2))\n",
    "\n",
    "sumOfStr(\"4\",\"5\")"
   ]
  },
  {
   "cell_type": "code",
   "execution_count": 28,
   "metadata": {},
   "outputs": [
    {
     "name": "stdout",
     "output_type": "stream",
     "text": [
      "32\n"
     ]
    }
   ],
   "source": [
    "def concat(s1,s2):\n",
    "    print(s1+s2)\n",
    "\n",
    "concat(\"3\",\"2\")"
   ]
  },
  {
   "cell_type": "code",
   "execution_count": 29,
   "metadata": {},
   "outputs": [
    {
     "name": "stdout",
     "output_type": "stream",
     "text": [
      "Hello\n",
      "World\n"
     ]
    }
   ],
   "source": [
    "def printLongest(s1,s2):\n",
    "    if len(s1)>len(s2):\n",
    "        print(s1)\n",
    "    elif len(s2)>len(s1):\n",
    "        print(s2)\n",
    "    else:\n",
    "        print(s1)\n",
    "        print(s2)\n",
    "\n",
    "printLongest(\"Hello\",\"World\")"
   ]
  },
  {
   "cell_type": "code",
   "execution_count": 30,
   "metadata": {},
   "outputs": [
    {
     "name": "stdout",
     "output_type": "stream",
     "text": [
      "It's an odd number.\n"
     ]
    }
   ],
   "source": [
    "def checkNum(num):\n",
    "    if num%2==0:\n",
    "        print(\"It's an even number.\")\n",
    "    else:\n",
    "        print(\"It's an odd number.\")\n",
    "\n",
    "checkNum(5)"
   ]
  },
  {
   "cell_type": "code",
   "execution_count": 32,
   "metadata": {},
   "outputs": [
    {
     "name": "stdout",
     "output_type": "stream",
     "text": [
      "{1: 1, 2: 4, 3: 9}\n"
     ]
    }
   ],
   "source": [
    "def dict1to3():\n",
    "    newdict = { x:x**2 for x in range(1,4) }\n",
    "    print(newdict)\n",
    "\n",
    "dict1to3()"
   ]
  }
 ],
 "metadata": {
  "kernelspec": {
   "display_name": "Python 3",
   "language": "python",
   "name": "python3"
  },
  "language_info": {
   "codemirror_mode": {
    "name": "ipython",
    "version": 3
   },
   "file_extension": ".py",
   "mimetype": "text/x-python",
   "name": "python",
   "nbconvert_exporter": "python",
   "pygments_lexer": "ipython3",
   "version": "3.6.5"
  }
 },
 "nbformat": 4,
 "nbformat_minor": 2
}
